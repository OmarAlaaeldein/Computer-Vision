{
 "cells": [
  {
   "cell_type": "code",
   "execution_count": 2,
   "metadata": {},
   "outputs": [
    {
     "name": "stdout",
     "output_type": "stream",
     "text": [
      "(7, 2)\n",
      "[1 1 0 0 0 0 0]\n",
      "[[3.9  5.1 ]\n",
      " [1.25 1.5 ]]\n"
     ]
    }
   ],
   "source": [
    "from sklearn.cluster import KMeans\n",
    "import numpy as np\n",
    "X = [[1,1],[1.5,2],[3,4],[5,7],[3.5,5],[4.5,5],[3.5,4.5]]\n",
    "print(np.array(X).shape)\n",
    "kmeans = KMeans(n_clusters=2, random_state=0).fit(X)\n",
    "print(kmeans.labels_)\n",
    "print(kmeans.cluster_centers_)"
   ]
  },
  {
   "cell_type": "code",
   "execution_count": 34,
   "metadata": {},
   "outputs": [
    {
     "name": "stdout",
     "output_type": "stream",
     "text": [
      "[[0]\n",
      " [0]\n",
      " [1]\n",
      " [0]\n",
      " [1]]\n"
     ]
    }
   ],
   "source": [
    "import numpy as np\n",
    "from numpy.linalg import norm \n",
    "import matplotlib.pyplot as plt\n",
    "class Kmeans():\n",
    "    \"\"\"Kmeans _summary_\n",
    "    \"\"\"\n",
    "    def __init__(self,X,no_of_clusters: int,init_centeroids=None): # X has number of rows equal obervation, number of columns equals dimnesion X.shape=[obervation,dimension]\n",
    "        \"\"\"__init__ _summary_\n",
    "\n",
    "        Parameters\n",
    "        ----------\n",
    "        X : list[list[float]]\n",
    "            design matrix\n",
    "        no_of_clusters : int\n",
    "            the number of desired clusters\n",
    "        init_centeroids : list[list[float]], optional\n",
    "            _description_, by default None\n",
    "        \"\"\"\n",
    "        np.random.seed(0)\n",
    "        self.X=np.array(X)\n",
    "        self.cluster_labels=None\n",
    "        self.no_of_clusters=no_of_clusters\n",
    "        self.no_of_dimensions=self.X.shape[1]\n",
    "        if init_centeroids==None:\n",
    "            self.init_centroids=self.init_clusters()\n",
    "        else:\n",
    "            assert np.array(init_centeroids).shape==(self.no_of_clusters,self.no_of_dimensions), \"Given centroids do not match shape\"\n",
    "            self.init_centroids=init_centeroids\n",
    "        \n",
    "    def transform(self):\n",
    "        cluster_list=[]\n",
    "        for i in range(len(self.init_centroids)):\n",
    "            X=norm(self.X-self.init_centroids[i],2,axis=1).reshape(-1,1)\n",
    "            cluster_list.append(X)\n",
    "        self.cluster_labels=np.argmin(np.array(cluster_list),axis=0)\n",
    "    def init_clusters(self):\n",
    "        dump=[]\n",
    "        X_min=np.min(self.X,axis=1)\n",
    "        X_max=np.max(self.X,axis=1)\n",
    "        for i in range(self.no_of_dimensions):\n",
    "            dump.append(np.random.uniform(size=(self.no_of_clusters),low=X_min[i],high=X_max[i]))\n",
    "        return np.array(dump).T\n",
    "    def evaluate(self): # evaluate the choice of clusters number using sum of squared distance for each cluster\n",
    "        return None\n",
    "    def get_centroids(self):\n",
    "        return self.init_centroids\n",
    "    def get_cluster_labels(self):\n",
    "        return self.cluster_labels\n",
    "s=Kmeans([[1,2],[1,3],[1,7],[2,5],[5,6]],3,[[1,2.5],[5,5],[6,6]])\n",
    "s.transform()\n",
    "print(s.get_cluster_labels())"
   ]
  }
 ],
 "metadata": {
  "interpreter": {
   "hash": "4672034b0d4eab58f7b447de6d0fad585a9a8e63b43495a58f758340196b25a2"
  },
  "kernelspec": {
   "display_name": "Python 3.7.11 ('venv')",
   "language": "python",
   "name": "python3"
  },
  "language_info": {
   "codemirror_mode": {
    "name": "ipython",
    "version": 3
   },
   "file_extension": ".py",
   "mimetype": "text/x-python",
   "name": "python",
   "nbconvert_exporter": "python",
   "pygments_lexer": "ipython3",
   "version": "3.7.11"
  },
  "orig_nbformat": 4
 },
 "nbformat": 4,
 "nbformat_minor": 2
}
