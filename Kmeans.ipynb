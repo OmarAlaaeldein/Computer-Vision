{
 "cells": [
  {
   "cell_type": "code",
   "execution_count": 1,
   "metadata": {},
   "outputs": [
    {
     "data": {
      "image/png": "[encoded data removed]",
      "text/plain": [
       "<Figure size 720x720 with 1 Axes>"
      ]
     },
     "metadata": {
      "needs_background": "light"
     },
     "output_type": "display_data"
    }
   ],
   "source": [
    "import numpy as np\n",
    "from numpy.linalg import norm \n",
    "import matplotlib.pyplot as plt\n",
    "import matplotlib.colors as mcolors\n",
    "import random\n",
    "class Kmeans():\n",
    "    \"\"\"Kmeans _summary_\n",
    "    \"\"\"\n",
    "    def __init__(self,X,no_of_clusters: int,init_centeroids=None,iterations=3): # X has number of rows equal obervation, number of columns equals dimnesion X.shape=[obervation,dimension]\n",
    "        \"\"\"__init__ _summary_\n",
    "\n",
    "        Parameters\n",
    "        ----------\n",
    "        X : list[list[float]]\n",
    "            design matrix\n",
    "        no_of_clusters : int\n",
    "            the number of desired clusters\n",
    "        init_centeroids : list[list[float]], optional\n",
    "            given centroids\n",
    "        iterations : int, optional\n",
    "            number of desired iterations\n",
    "        \"\"\"\n",
    "        np.random.seed(0)\n",
    "        self.X=np.array(X)\n",
    "        self.cluster_labels=None\n",
    "        self.no_of_clusters=no_of_clusters\n",
    "        self.no_of_dimensions=self.X.shape[1]\n",
    "        self.no_of_points=self.X.shape[0]\n",
    "        self.iterations=iterations\n",
    "        if init_centeroids==None:\n",
    "            self.init_centroids=self.init_clusters()\n",
    "        else:\n",
    "            assert np.array(init_centeroids).shape==(self.no_of_clusters,self.no_of_dimensions), \"Given centroids do not match shape\"\n",
    "            self.init_centroids=init_centeroids\n",
    "        \n",
    "    def fit(self):\n",
    "        labels=self.compute()\n",
    "        cluster_dict=dict()\n",
    "        n=0\n",
    "        for i in range(self.no_of_clusters):\n",
    "            cluster_dict[i]=[]\n",
    "            \n",
    "        while True:\n",
    "            n+=1\n",
    "            old_centroids=self.get_centroids().copy()\n",
    "            for i in range(self.no_of_points):\n",
    "                #print(labels[i])\n",
    "                cluster_dict[labels[i][0]].append(self.X[i])\n",
    "            #print(np.array(cluster_dict[labels[0][0]]))\n",
    "            for cluster,points in cluster_dict.items():\n",
    "                self.init_centroids[cluster]=np.mean(np.array(points),axis=0)\n",
    "                #print(np.mean(np.array(points),axis=0))\n",
    "            labels=self.compute()\n",
    "            #print(self.get_centroids()) # used to keep track of centroid iterations\n",
    "            if np.where(np.isclose(old_centroids, self.get_centroids()))or n>=max(self.iterations,3): # some stupid issue causes nan numbers to appear in early iterations of kmeans\n",
    "                break\n",
    "            #if np.where( np.abs(old_centroids-self.get_centroids()) < self.epsilon ):\n",
    "              #  break\n",
    "    def compute(self):\n",
    "        cluster_list=[]\n",
    "        for i in range(len(self.init_centroids)):\n",
    "            X=norm(self.X-self.init_centroids[i],2,axis=1).reshape(-1,1)\n",
    "            cluster_list.append(X)\n",
    "        self.cluster_labels=np.argmin(np.array(cluster_list),axis=0)\n",
    "        return self.cluster_labels\n",
    "    def init_clusters(self): # This function does the job of choosing an approperiate centroid uniformely\n",
    "        dump=[]\n",
    "        X_min=np.min(self.X,axis=1)\n",
    "        X_max=np.max(self.X,axis=1)\n",
    "        \n",
    "        for i in range(self.no_of_dimensions):\n",
    "            dump.append(np.random.uniform(size=(self.no_of_clusters),low=X_min[i],high=X_max[i]))\n",
    "    \n",
    "        return np.array(dump).T\n",
    "    def evaluate(self): # evaluate the choice of clusters number using sum of squared distance for each cluster\n",
    "        return None\n",
    "    def get_centroids(self):\n",
    "        return self.init_centroids\n",
    "    def get_cluster_labels(self):\n",
    "        return self.cluster_labels\n",
    "    def get_points(self):\n",
    "        return self.X\n",
    "s=Kmeans([[1,2],[1.5,1.4],[1,3],[1,7],[2,5],[5.5,6],[20,20],[19,25],[23,22]],3)\n",
    "s.fit()\n",
    "labels=s.get_cluster_labels()\n",
    "points=s.get_points()\n",
    "centers=s.get_centroids()\n",
    "fig=plt.figure(figsize=(10,10))\n",
    "colors=list(mcolors.CSS4_COLORS.keys())\n",
    "random.shuffle(colors)\n",
    "# print(colors) # list of css4 colors, needs better clear colors\n",
    "for i,j in enumerate(centers):\n",
    "    plt.scatter(j[0],j[1],s=150,color=colors[i],label=\"Cluster {}\".format(i));\n",
    "plt.legend()\n",
    "for i,j in enumerate(points):\n",
    "    plt.scatter(j[0],j[1],color=colors[labels[i][0]],beta=0.5);\n",
    "plt.axis(\"off\");\n",
    "#print(s.get_cluster_labels())"
   ]
  }
 ],
 "metadata": {
  "interpreter": {
   "hash": "4672034b0d4eab58f7b447de6d0fad585a9a8e63b43495a58f758340196b25a2"
  },
  "kernelspec": {
   "display_name": "Python 3.7.11 ('venv')",
   "language": "python",
   "name": "python3"
  },
  "language_info": {
   "codemirror_mode": {
    "name": "ipython",
    "version": 3
   },
   "file_extension": ".py",
   "mimetype": "text/x-python",
   "name": "python",
   "nbconvert_exporter": "python",
   "pygments_lexer": "ipython3",
   "version": "3.7.11"
  },
  "orig_nbformat": 4
 },
 "nbformat": 4,
 "nbformat_minor": 2
}
