{
 "cells": [
  {
   "cell_type": "code",
   "execution_count": 1,
   "metadata": {
    "collapsed": false,
    "pycharm": {
     "name": "#%%\n"
    }
   },
   "outputs": [],
   "source": [
    "import numpy as np\n",
    "from numpy.linalg import norm\n",
    "import matplotlib.pyplot as plt\n",
    "import matplotlib.colors as mcolors\n",
    "import random\n",
    "\n",
    "\n",
    "class Kmeans():\n",
    "\n",
    "    def __init__(self, X, no_of_clusters: int, init_centeroids=None,\n",
    "                 iterations=3,norm=2):  # X has number of rows equal obervation, number of columns equals dimnesion X.shape=[obervation,dimension]\n",
    "        \"\"\"\n",
    "        \n",
    "        Parameters\n",
    "        ----------\n",
    "        X : list[list[float]]\n",
    "            design matrix\n",
    "        no_of_clusters : int\n",
    "            the number of desired clusters\n",
    "        init_centeroids : list[list[float]], optional\n",
    "            given centroids\n",
    "        iterations : int, optional\n",
    "            number of desired iterations\n",
    "        norm : int, optional\n",
    "            which norm to use for the distance function\n",
    "        \"\"\"\n",
    "        np.random.seed(0)\n",
    "        self.X = np.array(X)\n",
    "        self.cluster_labels = None\n",
    "        self.no_of_clusters = no_of_clusters\n",
    "        self.no_of_dimensions = self.X.shape[1]\n",
    "        self.no_of_points = self.X.shape[0]\n",
    "        self.iterations = iterations\n",
    "        self.list_centroids = []\n",
    "        self.mse_error = []\n",
    "        self.norm = norm\n",
    "        if init_centeroids == None:\n",
    "            self.init_centroids = self.init_clusters()\n",
    "        else:\n",
    "            assert np.array(init_centeroids).shape == (\n",
    "            self.no_of_clusters, self.no_of_dimensions), \"Given centroids do not match shape\"\n",
    "            self.init_centroids = init_centeroids\n",
    "\n",
    "    def fit(self):\n",
    "        labels = self.compute()\n",
    "        cluster_dict = dict()\n",
    "        n = 0\n",
    "        print(\"Iteration {}, \".format(n),\"Centroids {}, \".format(self.get_centroids()),\"Labels {}, \".format(labels.reshape(1,-1)))\n",
    "        for i in range(self.no_of_clusters):\n",
    "            cluster_dict[i] = []\n",
    "        while True:\n",
    "            n += 1\n",
    "\n",
    "            old_centroids = self.get_centroids().copy()\n",
    "            for i in range(self.no_of_points):\n",
    "                # print(labels[i])\n",
    "                cluster_dict[labels[i][0]].append(self.X[i])\n",
    "            # print(np.array(cluster_dict[labels[0][0]]))\n",
    "            for cluster, points in cluster_dict.items():\n",
    "                if points: # check if each cluster has at least one point then find the mean and assign new centroid\n",
    "                    self.init_centroids[cluster] = np.mean(np.array(points), axis=0)\n",
    "            new_centroids = self.get_centroids().copy()\n",
    "            for i in range(self.no_of_clusters):\n",
    "                cluster_dict[i].clear()\n",
    "                # print(np.mean(np.array(points),axis=0))\n",
    "            labels = self.compute()\n",
    "            # used to keep track of centroid iterations\n",
    "            print(\"Iteration {}, \".format(n),\"Centroids {}, \".format(self.get_centroids()),\"Labels {}, \".format(labels.reshape(1,-1)))\n",
    "            self.list_centroids.append([\"Iteration {}\".format(n),self.get_centroids(),list(labels.reshape(1,-1))])\n",
    "            if np.where(np.isclose(old_centroids, new_centroids)) and n >= max(self.iterations,\n",
    "                                                                               3):  # some stupid issue causes nan numbers to appear in early iterations of kmeans\n",
    "                break\n",
    "\n",
    "            # if np.where( np.abs(old_centroids-self.get_centroids()) < self.epsilon ):\n",
    "            #  break\n",
    "\n",
    "    def compute(self):\n",
    "        cluster_list = []\n",
    "        error=0\n",
    "        for i in range(len(self.init_centroids)):\n",
    "            X = norm(self.X - self.init_centroids[i], self.norm, axis=1).reshape(-1, 1)\n",
    "            cluster_list.append(X)\n",
    "            error+=np.sum(X)\n",
    "        self.mse_error.append(error)\n",
    "        self.cluster_labels = np.argmin(np.array(cluster_list), axis=0)\n",
    "\n",
    "        return self.cluster_labels\n",
    "\n",
    "    def init_clusters(self):  # This function does the job of choosing an approperiate centroid uniformely\n",
    "        dump = []\n",
    "        X_min = np.min(self.X, axis=1)\n",
    "        X_max = np.max(self.X, axis=1)\n",
    "\n",
    "        for i in range(self.no_of_dimensions):\n",
    "            dump.append(np.random.uniform(size=(self.no_of_clusters), low=X_min[i], high=X_max[i]))\n",
    "\n",
    "        return np.array(dump).T\n",
    "\n",
    "    def evaluate(self):  # evaluate the choice of clusters number using sum of squared distance for each cluster\n",
    "        return None\n",
    "\n",
    "    def get_centroids(self):\n",
    "        return self.init_centroids\n",
    "\n",
    "    def get_cluster_labels(self):\n",
    "        return self.cluster_labels\n",
    "\n",
    "    def get_points(self):\n",
    "        return self.X\n",
    "\n",
    "    def get_iterative_centroids(self):\n",
    "        return self.list_centroids\n",
    "    \n",
    "    def get_error(self):\n",
    "        return self.mse_error,self.norm\n",
    "    \n",
    "    def shake_point(self):\n",
    "        # change the centroids location unfiformely to see if possible to minimize error further\n",
    "        pass"
   ]
  },
  {
   "cell_type": "code",
   "execution_count": 2,
   "metadata": {},
   "outputs": [
    {
     "name": "stdout",
     "output_type": "stream",
     "text": [
      "Iteration 0,  Centroids [[1.         1.7118274 ]\n",
      " [1.         1.82294706]\n",
      " [1.         1.71879361]\n",
      " [1.         1.9458865 ]],  Labels [[0 3 3 3 3 3 3 3 3 3]], \n",
      "Iteration 1,  Centroids [[1.         1.        ]\n",
      " [1.         1.82294706]\n",
      " [1.         1.71879361]\n",
      " [6.05555556 4.55555556]],  Labels [[0 1 1 3 3 3 3 3 3 3]], \n",
      "Iteration 2,  Centroids [[1.         1.        ]\n",
      " [2.25       3.        ]\n",
      " [1.         1.71879361]\n",
      " [7.14285714 5.        ]],  Labels [[0 2 1 3 1 3 3 3 3 3]], \n",
      "Iteration 3,  Centroids [[1.   1.  ]\n",
      " [3.25 4.5 ]\n",
      " [1.5  2.  ]\n",
      " [7.75 5.  ]],  Labels [[0 2 1 1 1 1 3 3 3 1]], \n"
     ]
    },
    {
     "data": {
      "image/png": "[encoded data removed]",
      "text/plain": [
       "<Figure size 720x720 with 1 Axes>"
      ]
     },
     "metadata": {
      "needs_background": "light"
     },
     "output_type": "display_data"
    },
    {
     "data": {
      "image/png": "[encoded data removed]",
      "text/plain": [
       "<Figure size 360x360 with 1 Axes>"
      ]
     },
     "metadata": {
      "needs_background": "light"
     },
     "output_type": "display_data"
    }
   ],
   "source": [
    "s = Kmeans([[1, 1], [1.5, 2], [3, 4], [5, 7], [3.5, 5], [4.5, 5], [10, 4.5],[9, 4.5],[13, 3],[5, 6]], 4)\n",
    "s.fit()\n",
    "labels = s.get_cluster_labels()\n",
    "points = s.get_points()\n",
    "centers = s.get_centroids()\n",
    "fig = plt.figure(figsize=(10, 10))\n",
    "colors = list(mcolors.CSS4_COLORS.keys())\n",
    "random.shuffle(colors)\n",
    "# print(colors) # list of css4 colors, needs better clear colors\n",
    "for i, j in enumerate(centers):\n",
    "    plt.scatter(j[0], j[1], s=150, color=colors[i], label=\"Cluster {}\".format(i));\n",
    "plt.legend()\n",
    "for i, j in enumerate(points):\n",
    "    plt.scatter(j[0], j[1], color=colors[labels[i][0]]);\n",
    "plt.axis(\"off\")\n",
    "error_info=s.get_error()\n",
    "fig = plt.figure(figsize=(5, 5))\n",
    "plt.plot(range(1,len(error_info[0])+1),error_info[0])\n",
    "plt.title(\"Norm-{} error per iteration\".format(error_info[1]));\n",
    "plt.xlabel(\"Iteration\");\n",
    "plt.xlabel(\"Error\");\n",
    "# print(s.get_cluster_labels())\n",
    "# print(s.get_iterative_centroids())"
   ]
  }
 ],
 "metadata": {
  "interpreter": {
   "hash": "a0219c7fb9a3ea5a3aef9cde8f981e20439ec62ccfaba430aba01f99d0659564"
  },
  "kernelspec": {
   "display_name": "Python 3.7.11 ('venv')",
   "language": "python",
   "name": "python3"
  },
  "language_info": {
   "codemirror_mode": {
    "name": "ipython",
    "version": 3
   },
   "file_extension": ".py",
   "mimetype": "text/x-python",
   "name": "python",
   "nbconvert_exporter": "python",
   "pygments_lexer": "ipython3",
   "version": "3.7.11"
  },
  "orig_nbformat": 4
 },
 "nbformat": 4,
 "nbformat_minor": 2
}
